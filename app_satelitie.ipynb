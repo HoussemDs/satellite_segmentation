{
  "nbformat": 4,
  "nbformat_minor": 0,
  "metadata": {
    "colab": {
      "provenance": [],
      "mount_file_id": "1_0lk5cPPrlaTTn7b-KPPrEc0KSxsnCrz",
      "authorship_tag": "ABX9TyOYzU480BvTE7CLzbAWAsot",
      "include_colab_link": true
    },
    "kernelspec": {
      "name": "python3",
      "display_name": "Python 3"
    },
    "language_info": {
      "name": "python"
    }
  },
  "cells": [
    {
      "cell_type": "markdown",
      "metadata": {
        "id": "view-in-github",
        "colab_type": "text"
      },
      "source": [
        "<a href=\"https://colab.research.google.com/github/HoussemDs/satellite_segmentation/blob/main/app_satelitie.ipynb\" target=\"_parent\"><img src=\"https://colab.research.google.com/assets/colab-badge.svg\" alt=\"Open In Colab\"/></a>"
      ]
    },
    {
      "cell_type": "code",
      "source": [
        "import os\n",
        "import cv2"
      ],
      "metadata": {
        "id": "qdCMQZooYXGz"
      },
      "execution_count": 23,
      "outputs": []
    },
    {
      "cell_type": "code",
      "execution_count": 1,
      "metadata": {
        "colab": {
          "base_uri": "https://localhost:8080/"
        },
        "id": "w_o1kZ0PXYml",
        "outputId": "c721fabb-5623-43af-cb07-6ac3c8fe8872"
      },
      "outputs": [
        {
          "output_type": "stream",
          "name": "stdout",
          "text": [
            "total 33K\n",
            "-rw------- 1 root root  548 Apr  2 11:13  classes.json\n",
            "drwx------ 2 root root 4.0K Apr  2 16:38 'Tile 1'\n",
            "drwx------ 2 root root 4.0K Apr  2 16:38 'Tile 2'\n",
            "drwx------ 2 root root 4.0K Apr  2 16:38 'Tile 3'\n",
            "drwx------ 2 root root 4.0K Apr  2 16:38 'Tile 4'\n",
            "drwx------ 2 root root 4.0K Apr  2 16:38 'Tile 5'\n",
            "drwx------ 2 root root 4.0K Apr  2 16:38 'Tile 6'\n",
            "drwx------ 2 root root 4.0K Apr  2 16:38 'Tile 7'\n",
            "drwx------ 2 root root 4.0K Apr  2 16:38 'Tile 8'\n"
          ]
        }
      ],
      "source": [
        "!lsm -lah '/content/drive/MyDrive/data/Semantic segmentation dataset'"
      ]
    },
    {
      "cell_type": "code",
      "source": [
        "dataset_root_folder = '/content/drive/MyDrive/data'"
      ],
      "metadata": {
        "id": "In7qtTOKX__o"
      },
      "execution_count": 10,
      "outputs": []
    },
    {
      "cell_type": "code",
      "source": [
        "dataset_name = 'Semantic segmentation dataset'"
      ],
      "metadata": {
        "id": "wrOcqP1MYQBv"
      },
      "execution_count": 11,
      "outputs": []
    },
    {
      "cell_type": "code",
      "source": [
        "for path , subdirs, files in os.walk(os.path.join(dataset_root_folder,dataset_name)):\n",
        "    dir_name = path.split(os.path.sep)[-1]\n",
        "    #print(dir_name)\n",
        "    if dir_name =='masks': #images ken bech n5dem 3la el data\n",
        "        images = os.listdir(path)\n",
        "        print(images)\n",
        "        for i , image_name in enumerate(images):\n",
        "            if (image_name.endswith('.png')): # twali jpg\n",
        "                #print(image_name)\n",
        "                a=True"
      ],
      "metadata": {
        "colab": {
          "base_uri": "https://localhost:8080/"
        },
        "id": "jWBAExKNYS7q",
        "outputId": "ad522610-4272-41c9-ffb3-b2dfe59af707"
      },
      "execution_count": 20,
      "outputs": [
        {
          "output_type": "stream",
          "name": "stdout",
          "text": [
            "['image_part_004.png', 'image_part_003.png', 'image_part_001.png', 'image_part_002.png', 'image_part_007.png', 'image_part_005.png', 'image_part_008.png', 'image_part_006.png', 'image_part_009.png']\n",
            "['image_part_006.png', 'image_part_008.png', 'image_part_001.png', 'image_part_007.png', 'image_part_009.png', 'image_part_007 (1).png', 'image_part_005.png', 'image_part_009 (1).png', 'image_part_002.png', 'image_part_004.png', 'image_part_003.png', 'image_part_005 (1).png', 'image_part_008 (1).png', 'image_part_006 (1).png']\n",
            "['image_part_002.png', 'image_part_001.png', 'image_part_009.png', 'image_part_006.png', 'image_part_007.png', 'image_part_005.png', 'image_part_008.png', 'image_part_004.png', 'image_part_003.png']\n",
            "['image_part_002.png', 'image_part_007.png', 'image_part_008.png', 'image_part_005.png', 'image_part_006.png', 'image_part_009.png', 'image_part_004.png', 'image_part_003.png', 'image_part_001.png']\n",
            "['image_part_006.png', 'image_part_004.png', 'image_part_008.png', 'image_part_005.png', 'image_part_002.png', 'image_part_001.png', 'image_part_003.png', 'image_part_007.png', 'image_part_009.png']\n",
            "['image_part_005.png', 'image_part_004.png', 'image_part_002.png', 'image_part_001.png', 'image_part_003.png', 'image_part_009.png', 'image_part_008.png', 'image_part_006.png', 'image_part_007.png']\n",
            "['image_part_006.png', 'image_part_004.png', 'image_part_002.png', 'image_part_003.png', 'image_part_001.png', 'image_part_007.png', 'image_part_009.png', 'image_part_008.png', 'image_part_005.png']\n",
            "['image_part_003.png', 'image_part_002.png', 'image_part_006.png', 'image_part_005.png', 'image_part_004.png', 'image_part_001.png', 'image_part_007.png', 'image_part_009.png', 'image_part_008.png']\n"
          ]
        }
      ]
    },
    {
      "cell_type": "markdown",
      "source": [
        "behi we have the dataset here and everything okay"
      ],
      "metadata": {
        "id": "Bqbfx1pWYlvC"
      }
    },
    {
      "cell_type": "code",
      "source": [
        "image = cv2.imread(f'{dataset_root_folder}/{dataset_name}/Tile 2/images/image_part_001.jpg')"
      ],
      "metadata": {
        "id": "-Z20EFTdY7wi"
      },
      "execution_count": 29,
      "outputs": []
    },
    {
      "cell_type": "code",
      "source": [
        "image.shape"
      ],
      "metadata": {
        "colab": {
          "base_uri": "https://localhost:8080/"
        },
        "id": "FnnQf3AYdA9x",
        "outputId": "98cd342d-3e95-4df9-938f-1e1e8c47ebdc"
      },
      "execution_count": 31,
      "outputs": [
        {
          "output_type": "execute_result",
          "data": {
            "text/plain": [
              "(544, 509, 3)"
            ]
          },
          "metadata": {},
          "execution_count": 31
        }
      ]
    },
    {
      "cell_type": "code",
      "source": [
        "image_dataset = []\n",
        "image_extension = 'jpg' # png\n",
        "image_type = 'masks' # images\n",
        "for tile_id in range(1,8):\n",
        "    for image_id in range(1,20):\n",
        "        image = cv2.imread(f'{dataset_root_folder}/{dataset_name}/Tile {tile_id}/images/image_part_00{image_id}.{image_extension}')\n",
        "        if image is not None:\n",
        "            print(image.shape)"
      ],
      "metadata": {
        "colab": {
          "base_uri": "https://localhost:8080/"
        },
        "id": "uhJ5zG5PdX0Z",
        "outputId": "3dfa0b86-360e-4b50-ab27-400a8f43cf2b"
      },
      "execution_count": 34,
      "outputs": [
        {
          "output_type": "stream",
          "name": "stdout",
          "text": [
            "(644, 797, 3)\n",
            "(644, 797, 3)\n",
            "(644, 797, 3)\n",
            "(643, 797, 3)\n",
            "(643, 797, 3)\n",
            "(643, 797, 3)\n",
            "(644, 797, 3)\n",
            "(644, 797, 3)\n",
            "(644, 797, 3)\n",
            "(544, 509, 3)\n",
            "(544, 510, 3)\n",
            "(544, 509, 3)\n",
            "(544, 509, 3)\n",
            "(544, 510, 3)\n",
            "(544, 509, 3)\n",
            "(544, 509, 3)\n",
            "(544, 510, 3)\n",
            "(544, 509, 3)\n",
            "(658, 682, 3)\n",
            "(658, 682, 3)\n",
            "(658, 682, 3)\n",
            "(658, 682, 3)\n",
            "(658, 682, 3)\n",
            "(658, 682, 3)\n",
            "(658, 682, 3)\n",
            "(658, 682, 3)\n",
            "(658, 682, 3)\n",
            "(846, 1099, 3)\n",
            "(846, 1099, 3)\n",
            "(846, 1099, 3)\n",
            "(846, 1099, 3)\n",
            "(846, 1099, 3)\n",
            "(846, 1099, 3)\n",
            "(846, 1099, 3)\n",
            "(846, 1099, 3)\n",
            "(846, 1099, 3)\n",
            "(1058, 1126, 3)\n",
            "(1058, 1126, 3)\n",
            "(1058, 1126, 3)\n",
            "(1058, 1126, 3)\n",
            "(1058, 1126, 3)\n",
            "(1058, 1126, 3)\n",
            "(1058, 1126, 3)\n",
            "(1058, 1126, 3)\n",
            "(1058, 1126, 3)\n",
            "(838, 859, 3)\n",
            "(838, 859, 3)\n",
            "(838, 859, 3)\n",
            "(838, 859, 3)\n",
            "(838, 859, 3)\n",
            "(838, 859, 3)\n",
            "(838, 859, 3)\n",
            "(838, 859, 3)\n",
            "(838, 859, 3)\n",
            "(2061, 1817, 3)\n",
            "(2061, 1816, 3)\n",
            "(2061, 1817, 3)\n",
            "(2062, 1817, 3)\n",
            "(2062, 1816, 3)\n",
            "(2062, 1817, 3)\n",
            "(2061, 1817, 3)\n",
            "(2061, 1816, 3)\n",
            "(2061, 1817, 3)\n"
          ]
        }
      ]
    },
    {
      "cell_type": "code",
      "source": [],
      "metadata": {
        "id": "BXOhx52Dd0N7"
      },
      "execution_count": null,
      "outputs": []
    }
  ]
}